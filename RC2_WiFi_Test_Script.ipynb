{
 "cells": [
  {
   "cell_type": "code",
   "execution_count": 2,
   "id": "0f144dbe-d96f-4152-96b2-a39efc4531de",
   "metadata": {},
   "outputs": [],
   "source": [
    "# this script automatically types a series of characters for WiFi testing the QuAD RC2\n",
    "# Devon Bolt 2024\n",
    "import time\n",
    "import keyboard\n",
    "\n",
    "time.sleep(2) # Waits 2 seconds to allow you to swap tabs\n",
    "\n",
    "channel = 7 # Change this based on desired channel\n",
    "duration = 5000 # Change this based on desired duration\n",
    "\n",
    "keyboard.write(\"\\n1\\n\" + str(channel) + \"\\n\" + str(duration) + \"\\n1\\n\\n\")\n"
   ]
  }
 ],
 "metadata": {
  "kernelspec": {
   "display_name": "Python 3 (ipykernel)",
   "language": "python",
   "name": "python3"
  },
  "language_info": {
   "codemirror_mode": {
    "name": "ipython",
    "version": 3
   },
   "file_extension": ".py",
   "mimetype": "text/x-python",
   "name": "python",
   "nbconvert_exporter": "python",
   "pygments_lexer": "ipython3",
   "version": "3.11.7"
  }
 },
 "nbformat": 4,
 "nbformat_minor": 5
}
